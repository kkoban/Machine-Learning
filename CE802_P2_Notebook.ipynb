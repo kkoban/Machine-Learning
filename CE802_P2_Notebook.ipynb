{
 "cells": [
  {
   "cell_type": "markdown",
   "metadata": {},
   "source": [
    "### Part A"
   ]
  },
  {
   "cell_type": "code",
   "execution_count": 1,
   "metadata": {},
   "outputs": [],
   "source": [
    "import pandas as pd # for data anlysis and manipulation\n",
    "import numpy as np # library of mathematical operations\n",
    "import seaborn as sns # to create confusion matrix\n",
    "import sklearn # libaray of supervised and unsupervised machine learning algorithms\n",
    "import matplotlib.pyplot as plt # to display charts"
   ]
  },
  {
   "cell_type": "code",
   "execution_count": 2,
   "metadata": {},
   "outputs": [
    {
     "data": {
      "text/html": [
       "<div>\n",
       "<style scoped>\n",
       "    .dataframe tbody tr th:only-of-type {\n",
       "        vertical-align: middle;\n",
       "    }\n",
       "\n",
       "    .dataframe tbody tr th {\n",
       "        vertical-align: top;\n",
       "    }\n",
       "\n",
       "    .dataframe thead th {\n",
       "        text-align: right;\n",
       "    }\n",
       "</style>\n",
       "<table border=\"1\" class=\"dataframe\">\n",
       "  <thead>\n",
       "    <tr style=\"text-align: right;\">\n",
       "      <th></th>\n",
       "      <th>F1</th>\n",
       "      <th>F2</th>\n",
       "      <th>F3</th>\n",
       "      <th>F4</th>\n",
       "      <th>F5</th>\n",
       "      <th>F6</th>\n",
       "      <th>F7</th>\n",
       "      <th>F8</th>\n",
       "      <th>F9</th>\n",
       "      <th>F10</th>\n",
       "      <th>...</th>\n",
       "      <th>F13</th>\n",
       "      <th>F14</th>\n",
       "      <th>F15</th>\n",
       "      <th>F16</th>\n",
       "      <th>F17</th>\n",
       "      <th>F18</th>\n",
       "      <th>F19</th>\n",
       "      <th>F20</th>\n",
       "      <th>F21</th>\n",
       "      <th>Class</th>\n",
       "    </tr>\n",
       "  </thead>\n",
       "  <tbody>\n",
       "    <tr>\n",
       "      <th>0</th>\n",
       "      <td>-2.30325</td>\n",
       "      <td>15.4530</td>\n",
       "      <td>853.76</td>\n",
       "      <td>-490.500</td>\n",
       "      <td>0.06</td>\n",
       "      <td>-11.24400</td>\n",
       "      <td>-1400.762</td>\n",
       "      <td>-22435.144</td>\n",
       "      <td>1535.900</td>\n",
       "      <td>-3.41000</td>\n",
       "      <td>...</td>\n",
       "      <td>9.85940</td>\n",
       "      <td>1</td>\n",
       "      <td>-5956.56</td>\n",
       "      <td>1.4626</td>\n",
       "      <td>-22.54700</td>\n",
       "      <td>-9.28800</td>\n",
       "      <td>1.50200</td>\n",
       "      <td>-7870.52</td>\n",
       "      <td>16.02</td>\n",
       "      <td>True</td>\n",
       "    </tr>\n",
       "    <tr>\n",
       "      <th>1</th>\n",
       "      <td>-3.79380</td>\n",
       "      <td>8.2308</td>\n",
       "      <td>1077.72</td>\n",
       "      <td>-2340.200</td>\n",
       "      <td>2.06</td>\n",
       "      <td>-6.64280</td>\n",
       "      <td>-949.740</td>\n",
       "      <td>-22459.770</td>\n",
       "      <td>-562.100</td>\n",
       "      <td>-0.52780</td>\n",
       "      <td>...</td>\n",
       "      <td>15.55200</td>\n",
       "      <td>1</td>\n",
       "      <td>-5927.34</td>\n",
       "      <td>1.0864</td>\n",
       "      <td>-20.97400</td>\n",
       "      <td>-13.73700</td>\n",
       "      <td>0.47138</td>\n",
       "      <td>-15984.08</td>\n",
       "      <td>NaN</td>\n",
       "      <td>False</td>\n",
       "    </tr>\n",
       "    <tr>\n",
       "      <th>2</th>\n",
       "      <td>-4.21470</td>\n",
       "      <td>7.7925</td>\n",
       "      <td>-4559.32</td>\n",
       "      <td>90.200</td>\n",
       "      <td>2.06</td>\n",
       "      <td>-6.94200</td>\n",
       "      <td>-1814.340</td>\n",
       "      <td>-22446.333</td>\n",
       "      <td>1238.500</td>\n",
       "      <td>-0.19285</td>\n",
       "      <td>...</td>\n",
       "      <td>12.47800</td>\n",
       "      <td>1</td>\n",
       "      <td>-5000.22</td>\n",
       "      <td>3.8200</td>\n",
       "      <td>-11.02800</td>\n",
       "      <td>-7.39650</td>\n",
       "      <td>0.96080</td>\n",
       "      <td>-8012.68</td>\n",
       "      <td>NaN</td>\n",
       "      <td>True</td>\n",
       "    </tr>\n",
       "    <tr>\n",
       "      <th>3</th>\n",
       "      <td>-2.95410</td>\n",
       "      <td>7.5495</td>\n",
       "      <td>518.68</td>\n",
       "      <td>-565.700</td>\n",
       "      <td>0.06</td>\n",
       "      <td>-6.71140</td>\n",
       "      <td>-1346.520</td>\n",
       "      <td>-22414.960</td>\n",
       "      <td>1084.376</td>\n",
       "      <td>-0.53640</td>\n",
       "      <td>...</td>\n",
       "      <td>9.01480</td>\n",
       "      <td>1</td>\n",
       "      <td>-3457.32</td>\n",
       "      <td>5.0020</td>\n",
       "      <td>-25.28000</td>\n",
       "      <td>-6.66330</td>\n",
       "      <td>1.04010</td>\n",
       "      <td>-8243.48</td>\n",
       "      <td>13.92</td>\n",
       "      <td>False</td>\n",
       "    </tr>\n",
       "    <tr>\n",
       "      <th>4</th>\n",
       "      <td>-2.67390</td>\n",
       "      <td>7.1814</td>\n",
       "      <td>891.36</td>\n",
       "      <td>-379.550</td>\n",
       "      <td>0.06</td>\n",
       "      <td>-10.60000</td>\n",
       "      <td>-1062.340</td>\n",
       "      <td>-22417.580</td>\n",
       "      <td>1016.740</td>\n",
       "      <td>-2.61700</td>\n",
       "      <td>...</td>\n",
       "      <td>10.10460</td>\n",
       "      <td>1</td>\n",
       "      <td>-5110.32</td>\n",
       "      <td>7.9840</td>\n",
       "      <td>-13.40200</td>\n",
       "      <td>-8.63940</td>\n",
       "      <td>0.66500</td>\n",
       "      <td>-9224.08</td>\n",
       "      <td>16.16</td>\n",
       "      <td>True</td>\n",
       "    </tr>\n",
       "    <tr>\n",
       "      <th>5</th>\n",
       "      <td>-6.81600</td>\n",
       "      <td>7.8165</td>\n",
       "      <td>1023.96</td>\n",
       "      <td>-497.620</td>\n",
       "      <td>2.06</td>\n",
       "      <td>-12.19200</td>\n",
       "      <td>-1090.940</td>\n",
       "      <td>-22018.750</td>\n",
       "      <td>1163.900</td>\n",
       "      <td>-0.84020</td>\n",
       "      <td>...</td>\n",
       "      <td>9.17680</td>\n",
       "      <td>0</td>\n",
       "      <td>-6853.92</td>\n",
       "      <td>4.8340</td>\n",
       "      <td>-13.05300</td>\n",
       "      <td>-8.14710</td>\n",
       "      <td>2.04900</td>\n",
       "      <td>-8046.38</td>\n",
       "      <td>NaN</td>\n",
       "      <td>False</td>\n",
       "    </tr>\n",
       "    <tr>\n",
       "      <th>6</th>\n",
       "      <td>-2.30937</td>\n",
       "      <td>8.2782</td>\n",
       "      <td>578.88</td>\n",
       "      <td>-432.420</td>\n",
       "      <td>0.06</td>\n",
       "      <td>-8.61600</td>\n",
       "      <td>-1124.940</td>\n",
       "      <td>-22432.018</td>\n",
       "      <td>695.900</td>\n",
       "      <td>-0.44010</td>\n",
       "      <td>...</td>\n",
       "      <td>9.03600</td>\n",
       "      <td>0</td>\n",
       "      <td>-4225.02</td>\n",
       "      <td>2.9020</td>\n",
       "      <td>-12.55300</td>\n",
       "      <td>-7.84260</td>\n",
       "      <td>0.62360</td>\n",
       "      <td>-9342.08</td>\n",
       "      <td>NaN</td>\n",
       "      <td>True</td>\n",
       "    </tr>\n",
       "    <tr>\n",
       "      <th>7</th>\n",
       "      <td>-5.10000</td>\n",
       "      <td>7.7787</td>\n",
       "      <td>983.76</td>\n",
       "      <td>-567.300</td>\n",
       "      <td>0.06</td>\n",
       "      <td>-9.43600</td>\n",
       "      <td>-601.340</td>\n",
       "      <td>-22599.450</td>\n",
       "      <td>-954.500</td>\n",
       "      <td>-3.56400</td>\n",
       "      <td>...</td>\n",
       "      <td>8.76392</td>\n",
       "      <td>1</td>\n",
       "      <td>-4969.02</td>\n",
       "      <td>1.1510</td>\n",
       "      <td>-8.90500</td>\n",
       "      <td>-8.60280</td>\n",
       "      <td>0.66510</td>\n",
       "      <td>-7263.68</td>\n",
       "      <td>13.23</td>\n",
       "      <td>False</td>\n",
       "    </tr>\n",
       "    <tr>\n",
       "      <th>8</th>\n",
       "      <td>-2.36025</td>\n",
       "      <td>14.1690</td>\n",
       "      <td>477.28</td>\n",
       "      <td>-294.000</td>\n",
       "      <td>2.06</td>\n",
       "      <td>-7.70580</td>\n",
       "      <td>-1463.060</td>\n",
       "      <td>-22532.410</td>\n",
       "      <td>1191.680</td>\n",
       "      <td>-0.91160</td>\n",
       "      <td>...</td>\n",
       "      <td>8.65182</td>\n",
       "      <td>0</td>\n",
       "      <td>-5187.42</td>\n",
       "      <td>5.0020</td>\n",
       "      <td>-15.73200</td>\n",
       "      <td>-7.83330</td>\n",
       "      <td>1.96700</td>\n",
       "      <td>-7834.46</td>\n",
       "      <td>14.02</td>\n",
       "      <td>True</td>\n",
       "    </tr>\n",
       "    <tr>\n",
       "      <th>9</th>\n",
       "      <td>-3.01800</td>\n",
       "      <td>8.4507</td>\n",
       "      <td>123.08</td>\n",
       "      <td>-5205.200</td>\n",
       "      <td>0.06</td>\n",
       "      <td>-6.53448</td>\n",
       "      <td>-1067.340</td>\n",
       "      <td>-22383.670</td>\n",
       "      <td>933.260</td>\n",
       "      <td>-0.55050</td>\n",
       "      <td>...</td>\n",
       "      <td>8.64930</td>\n",
       "      <td>0</td>\n",
       "      <td>4027.98</td>\n",
       "      <td>4.3320</td>\n",
       "      <td>-6.99100</td>\n",
       "      <td>-6.50964</td>\n",
       "      <td>0.86230</td>\n",
       "      <td>-7735.48</td>\n",
       "      <td>NaN</td>\n",
       "      <td>False</td>\n",
       "    </tr>\n",
       "    <tr>\n",
       "      <th>10</th>\n",
       "      <td>-4.30380</td>\n",
       "      <td>9.6048</td>\n",
       "      <td>-181.92</td>\n",
       "      <td>-102.200</td>\n",
       "      <td>2.06</td>\n",
       "      <td>-7.38160</td>\n",
       "      <td>-1433.232</td>\n",
       "      <td>-22323.550</td>\n",
       "      <td>499.500</td>\n",
       "      <td>-0.40500</td>\n",
       "      <td>...</td>\n",
       "      <td>9.15000</td>\n",
       "      <td>1</td>\n",
       "      <td>-3712.32</td>\n",
       "      <td>1.4358</td>\n",
       "      <td>-14.59497</td>\n",
       "      <td>-7.79400</td>\n",
       "      <td>0.71980</td>\n",
       "      <td>-8043.78</td>\n",
       "      <td>NaN</td>\n",
       "      <td>True</td>\n",
       "    </tr>\n",
       "    <tr>\n",
       "      <th>11</th>\n",
       "      <td>-4.17990</td>\n",
       "      <td>12.9000</td>\n",
       "      <td>777.50</td>\n",
       "      <td>140.400</td>\n",
       "      <td>2.06</td>\n",
       "      <td>-6.64080</td>\n",
       "      <td>-1385.100</td>\n",
       "      <td>-22501.900</td>\n",
       "      <td>466.300</td>\n",
       "      <td>-1.97900</td>\n",
       "      <td>...</td>\n",
       "      <td>10.19380</td>\n",
       "      <td>0</td>\n",
       "      <td>-2692.02</td>\n",
       "      <td>1.8260</td>\n",
       "      <td>-23.14800</td>\n",
       "      <td>-7.28070</td>\n",
       "      <td>2.72600</td>\n",
       "      <td>-8040.18</td>\n",
       "      <td>NaN</td>\n",
       "      <td>True</td>\n",
       "    </tr>\n",
       "    <tr>\n",
       "      <th>12</th>\n",
       "      <td>-2.80410</td>\n",
       "      <td>7.6107</td>\n",
       "      <td>486.08</td>\n",
       "      <td>-1801.200</td>\n",
       "      <td>2.06</td>\n",
       "      <td>-6.60694</td>\n",
       "      <td>-845.940</td>\n",
       "      <td>-22444.925</td>\n",
       "      <td>903.140</td>\n",
       "      <td>-0.80640</td>\n",
       "      <td>...</td>\n",
       "      <td>10.73800</td>\n",
       "      <td>0</td>\n",
       "      <td>-4744.02</td>\n",
       "      <td>5.1280</td>\n",
       "      <td>-8.47000</td>\n",
       "      <td>-8.97090</td>\n",
       "      <td>1.00230</td>\n",
       "      <td>-7762.48</td>\n",
       "      <td>NaN</td>\n",
       "      <td>False</td>\n",
       "    </tr>\n",
       "    <tr>\n",
       "      <th>13</th>\n",
       "      <td>-2.88060</td>\n",
       "      <td>12.9720</td>\n",
       "      <td>1046.70</td>\n",
       "      <td>-441.600</td>\n",
       "      <td>0.06</td>\n",
       "      <td>-14.69800</td>\n",
       "      <td>-1404.252</td>\n",
       "      <td>-22432.470</td>\n",
       "      <td>2524.700</td>\n",
       "      <td>-1.15300</td>\n",
       "      <td>...</td>\n",
       "      <td>8.64336</td>\n",
       "      <td>1</td>\n",
       "      <td>-10045.02</td>\n",
       "      <td>1.0840</td>\n",
       "      <td>-10.78700</td>\n",
       "      <td>-6.55302</td>\n",
       "      <td>1.92900</td>\n",
       "      <td>-7852.04</td>\n",
       "      <td>11.72</td>\n",
       "      <td>False</td>\n",
       "    </tr>\n",
       "    <tr>\n",
       "      <th>14</th>\n",
       "      <td>-3.89880</td>\n",
       "      <td>8.6919</td>\n",
       "      <td>866.22</td>\n",
       "      <td>-271.500</td>\n",
       "      <td>2.06</td>\n",
       "      <td>-7.90580</td>\n",
       "      <td>-1398.050</td>\n",
       "      <td>-22408.700</td>\n",
       "      <td>920.560</td>\n",
       "      <td>-1.73700</td>\n",
       "      <td>...</td>\n",
       "      <td>9.82200</td>\n",
       "      <td>1</td>\n",
       "      <td>-4882.32</td>\n",
       "      <td>3.1100</td>\n",
       "      <td>-21.52100</td>\n",
       "      <td>-8.83380</td>\n",
       "      <td>2.91800</td>\n",
       "      <td>-7866.17</td>\n",
       "      <td>18.53</td>\n",
       "      <td>True</td>\n",
       "    </tr>\n",
       "    <tr>\n",
       "      <th>15</th>\n",
       "      <td>-6.03600</td>\n",
       "      <td>9.7284</td>\n",
       "      <td>841.30</td>\n",
       "      <td>-1017.500</td>\n",
       "      <td>2.06</td>\n",
       "      <td>-7.13140</td>\n",
       "      <td>-1229.800</td>\n",
       "      <td>-22420.170</td>\n",
       "      <td>756.900</td>\n",
       "      <td>-0.31980</td>\n",
       "      <td>...</td>\n",
       "      <td>8.62179</td>\n",
       "      <td>0</td>\n",
       "      <td>-5523.42</td>\n",
       "      <td>1.9154</td>\n",
       "      <td>-14.20490</td>\n",
       "      <td>-7.78950</td>\n",
       "      <td>0.96040</td>\n",
       "      <td>-8355.18</td>\n",
       "      <td>NaN</td>\n",
       "      <td>True</td>\n",
       "    </tr>\n",
       "    <tr>\n",
       "      <th>16</th>\n",
       "      <td>-2.56680</td>\n",
       "      <td>7.4751</td>\n",
       "      <td>868.42</td>\n",
       "      <td>-401.099</td>\n",
       "      <td>2.06</td>\n",
       "      <td>-9.77600</td>\n",
       "      <td>-1572.440</td>\n",
       "      <td>-22393.360</td>\n",
       "      <td>1299.100</td>\n",
       "      <td>-2.66100</td>\n",
       "      <td>...</td>\n",
       "      <td>8.72900</td>\n",
       "      <td>0</td>\n",
       "      <td>-4675.02</td>\n",
       "      <td>2.1414</td>\n",
       "      <td>-7.35800</td>\n",
       "      <td>-6.59790</td>\n",
       "      <td>1.40880</td>\n",
       "      <td>-8141.88</td>\n",
       "      <td>15.99</td>\n",
       "      <td>True</td>\n",
       "    </tr>\n",
       "    <tr>\n",
       "      <th>17</th>\n",
       "      <td>-3.36330</td>\n",
       "      <td>8.4825</td>\n",
       "      <td>945.25</td>\n",
       "      <td>-357.430</td>\n",
       "      <td>2.06</td>\n",
       "      <td>-9.56600</td>\n",
       "      <td>-1315.620</td>\n",
       "      <td>-23340.850</td>\n",
       "      <td>936.920</td>\n",
       "      <td>-1.08610</td>\n",
       "      <td>...</td>\n",
       "      <td>12.05400</td>\n",
       "      <td>0</td>\n",
       "      <td>-4798.32</td>\n",
       "      <td>4.5800</td>\n",
       "      <td>-11.35500</td>\n",
       "      <td>-8.65740</td>\n",
       "      <td>0.77450</td>\n",
       "      <td>-7608.48</td>\n",
       "      <td>NaN</td>\n",
       "      <td>False</td>\n",
       "    </tr>\n",
       "    <tr>\n",
       "      <th>18</th>\n",
       "      <td>-3.30360</td>\n",
       "      <td>8.4714</td>\n",
       "      <td>3174.68</td>\n",
       "      <td>-221.400</td>\n",
       "      <td>2.06</td>\n",
       "      <td>-8.29200</td>\n",
       "      <td>-1554.940</td>\n",
       "      <td>-22440.318</td>\n",
       "      <td>1587.500</td>\n",
       "      <td>-0.20589</td>\n",
       "      <td>...</td>\n",
       "      <td>8.69788</td>\n",
       "      <td>0</td>\n",
       "      <td>-5678.52</td>\n",
       "      <td>1.0620</td>\n",
       "      <td>-22.11900</td>\n",
       "      <td>-9.90300</td>\n",
       "      <td>0.52100</td>\n",
       "      <td>-5138.08</td>\n",
       "      <td>NaN</td>\n",
       "      <td>False</td>\n",
       "    </tr>\n",
       "    <tr>\n",
       "      <th>19</th>\n",
       "      <td>-4.20690</td>\n",
       "      <td>17.3760</td>\n",
       "      <td>1623.28</td>\n",
       "      <td>-329.220</td>\n",
       "      <td>0.06</td>\n",
       "      <td>-9.34200</td>\n",
       "      <td>-1433.572</td>\n",
       "      <td>-22449.470</td>\n",
       "      <td>1208.480</td>\n",
       "      <td>-0.35720</td>\n",
       "      <td>...</td>\n",
       "      <td>9.42740</td>\n",
       "      <td>0</td>\n",
       "      <td>-7508.82</td>\n",
       "      <td>3.2340</td>\n",
       "      <td>-19.83400</td>\n",
       "      <td>-6.55017</td>\n",
       "      <td>0.83030</td>\n",
       "      <td>-8804.58</td>\n",
       "      <td>15.39</td>\n",
       "      <td>True</td>\n",
       "    </tr>\n",
       "  </tbody>\n",
       "</table>\n",
       "<p>20 rows × 22 columns</p>\n",
       "</div>"
      ],
      "text/plain": [
       "         F1       F2       F3        F4    F5        F6        F7         F8  \\\n",
       "0  -2.30325  15.4530   853.76  -490.500  0.06 -11.24400 -1400.762 -22435.144   \n",
       "1  -3.79380   8.2308  1077.72 -2340.200  2.06  -6.64280  -949.740 -22459.770   \n",
       "2  -4.21470   7.7925 -4559.32    90.200  2.06  -6.94200 -1814.340 -22446.333   \n",
       "3  -2.95410   7.5495   518.68  -565.700  0.06  -6.71140 -1346.520 -22414.960   \n",
       "4  -2.67390   7.1814   891.36  -379.550  0.06 -10.60000 -1062.340 -22417.580   \n",
       "5  -6.81600   7.8165  1023.96  -497.620  2.06 -12.19200 -1090.940 -22018.750   \n",
       "6  -2.30937   8.2782   578.88  -432.420  0.06  -8.61600 -1124.940 -22432.018   \n",
       "7  -5.10000   7.7787   983.76  -567.300  0.06  -9.43600  -601.340 -22599.450   \n",
       "8  -2.36025  14.1690   477.28  -294.000  2.06  -7.70580 -1463.060 -22532.410   \n",
       "9  -3.01800   8.4507   123.08 -5205.200  0.06  -6.53448 -1067.340 -22383.670   \n",
       "10 -4.30380   9.6048  -181.92  -102.200  2.06  -7.38160 -1433.232 -22323.550   \n",
       "11 -4.17990  12.9000   777.50   140.400  2.06  -6.64080 -1385.100 -22501.900   \n",
       "12 -2.80410   7.6107   486.08 -1801.200  2.06  -6.60694  -845.940 -22444.925   \n",
       "13 -2.88060  12.9720  1046.70  -441.600  0.06 -14.69800 -1404.252 -22432.470   \n",
       "14 -3.89880   8.6919   866.22  -271.500  2.06  -7.90580 -1398.050 -22408.700   \n",
       "15 -6.03600   9.7284   841.30 -1017.500  2.06  -7.13140 -1229.800 -22420.170   \n",
       "16 -2.56680   7.4751   868.42  -401.099  2.06  -9.77600 -1572.440 -22393.360   \n",
       "17 -3.36330   8.4825   945.25  -357.430  2.06  -9.56600 -1315.620 -23340.850   \n",
       "18 -3.30360   8.4714  3174.68  -221.400  2.06  -8.29200 -1554.940 -22440.318   \n",
       "19 -4.20690  17.3760  1623.28  -329.220  0.06  -9.34200 -1433.572 -22449.470   \n",
       "\n",
       "          F9      F10  ...       F13  F14       F15     F16       F17  \\\n",
       "0   1535.900 -3.41000  ...   9.85940    1  -5956.56  1.4626 -22.54700   \n",
       "1   -562.100 -0.52780  ...  15.55200    1  -5927.34  1.0864 -20.97400   \n",
       "2   1238.500 -0.19285  ...  12.47800    1  -5000.22  3.8200 -11.02800   \n",
       "3   1084.376 -0.53640  ...   9.01480    1  -3457.32  5.0020 -25.28000   \n",
       "4   1016.740 -2.61700  ...  10.10460    1  -5110.32  7.9840 -13.40200   \n",
       "5   1163.900 -0.84020  ...   9.17680    0  -6853.92  4.8340 -13.05300   \n",
       "6    695.900 -0.44010  ...   9.03600    0  -4225.02  2.9020 -12.55300   \n",
       "7   -954.500 -3.56400  ...   8.76392    1  -4969.02  1.1510  -8.90500   \n",
       "8   1191.680 -0.91160  ...   8.65182    0  -5187.42  5.0020 -15.73200   \n",
       "9    933.260 -0.55050  ...   8.64930    0   4027.98  4.3320  -6.99100   \n",
       "10   499.500 -0.40500  ...   9.15000    1  -3712.32  1.4358 -14.59497   \n",
       "11   466.300 -1.97900  ...  10.19380    0  -2692.02  1.8260 -23.14800   \n",
       "12   903.140 -0.80640  ...  10.73800    0  -4744.02  5.1280  -8.47000   \n",
       "13  2524.700 -1.15300  ...   8.64336    1 -10045.02  1.0840 -10.78700   \n",
       "14   920.560 -1.73700  ...   9.82200    1  -4882.32  3.1100 -21.52100   \n",
       "15   756.900 -0.31980  ...   8.62179    0  -5523.42  1.9154 -14.20490   \n",
       "16  1299.100 -2.66100  ...   8.72900    0  -4675.02  2.1414  -7.35800   \n",
       "17   936.920 -1.08610  ...  12.05400    0  -4798.32  4.5800 -11.35500   \n",
       "18  1587.500 -0.20589  ...   8.69788    0  -5678.52  1.0620 -22.11900   \n",
       "19  1208.480 -0.35720  ...   9.42740    0  -7508.82  3.2340 -19.83400   \n",
       "\n",
       "         F18      F19       F20    F21  Class  \n",
       "0   -9.28800  1.50200  -7870.52  16.02   True  \n",
       "1  -13.73700  0.47138 -15984.08    NaN  False  \n",
       "2   -7.39650  0.96080  -8012.68    NaN   True  \n",
       "3   -6.66330  1.04010  -8243.48  13.92  False  \n",
       "4   -8.63940  0.66500  -9224.08  16.16   True  \n",
       "5   -8.14710  2.04900  -8046.38    NaN  False  \n",
       "6   -7.84260  0.62360  -9342.08    NaN   True  \n",
       "7   -8.60280  0.66510  -7263.68  13.23  False  \n",
       "8   -7.83330  1.96700  -7834.46  14.02   True  \n",
       "9   -6.50964  0.86230  -7735.48    NaN  False  \n",
       "10  -7.79400  0.71980  -8043.78    NaN   True  \n",
       "11  -7.28070  2.72600  -8040.18    NaN   True  \n",
       "12  -8.97090  1.00230  -7762.48    NaN  False  \n",
       "13  -6.55302  1.92900  -7852.04  11.72  False  \n",
       "14  -8.83380  2.91800  -7866.17  18.53   True  \n",
       "15  -7.78950  0.96040  -8355.18    NaN   True  \n",
       "16  -6.59790  1.40880  -8141.88  15.99   True  \n",
       "17  -8.65740  0.77450  -7608.48    NaN  False  \n",
       "18  -9.90300  0.52100  -5138.08    NaN  False  \n",
       "19  -6.55017  0.83030  -8804.58  15.39   True  \n",
       "\n",
       "[20 rows x 22 columns]"
      ]
     },
     "execution_count": 2,
     "metadata": {},
     "output_type": "execute_result"
    }
   ],
   "source": [
    "# to read the csv file \n",
    "train = pd.read_csv('CE802_P2_Data.csv') \n",
    "train.head(20)"
   ]
  },
  {
   "cell_type": "code",
   "execution_count": 3,
   "metadata": {},
   "outputs": [
    {
     "name": "stdout",
     "output_type": "stream",
     "text": [
      "<class 'pandas.core.frame.DataFrame'>\n",
      "RangeIndex: 1000 entries, 0 to 999\n",
      "Data columns (total 22 columns):\n",
      " #   Column  Non-Null Count  Dtype  \n",
      "---  ------  --------------  -----  \n",
      " 0   F1      1000 non-null   float64\n",
      " 1   F2      1000 non-null   float64\n",
      " 2   F3      1000 non-null   float64\n",
      " 3   F4      1000 non-null   float64\n",
      " 4   F5      1000 non-null   float64\n",
      " 5   F6      1000 non-null   float64\n",
      " 6   F7      1000 non-null   float64\n",
      " 7   F8      1000 non-null   float64\n",
      " 8   F9      1000 non-null   float64\n",
      " 9   F10     1000 non-null   float64\n",
      " 10  F11     1000 non-null   int64  \n",
      " 11  F12     1000 non-null   float64\n",
      " 12  F13     1000 non-null   float64\n",
      " 13  F14     1000 non-null   int64  \n",
      " 14  F15     1000 non-null   float64\n",
      " 15  F16     1000 non-null   float64\n",
      " 16  F17     1000 non-null   float64\n",
      " 17  F18     1000 non-null   float64\n",
      " 18  F19     1000 non-null   float64\n",
      " 19  F20     1000 non-null   float64\n",
      " 20  F21     500 non-null    float64\n",
      " 21  Class   1000 non-null   bool   \n",
      "dtypes: bool(1), float64(19), int64(2)\n",
      "memory usage: 165.2 KB\n"
     ]
    }
   ],
   "source": [
    "train.info()"
   ]
  },
  {
   "cell_type": "code",
   "execution_count": 4,
   "metadata": {},
   "outputs": [],
   "source": [
    "# to convert categorical values into numerical values\n",
    "cleanup = {\"Class\": {\"True\":1, \"False\":0}}\n",
    "train.replace(cleanup, inplace=True)"
   ]
  },
  {
   "cell_type": "code",
   "execution_count": 5,
   "metadata": {},
   "outputs": [
    {
     "data": {
      "text/html": [
       "<div>\n",
       "<style scoped>\n",
       "    .dataframe tbody tr th:only-of-type {\n",
       "        vertical-align: middle;\n",
       "    }\n",
       "\n",
       "    .dataframe tbody tr th {\n",
       "        vertical-align: top;\n",
       "    }\n",
       "\n",
       "    .dataframe thead th {\n",
       "        text-align: right;\n",
       "    }\n",
       "</style>\n",
       "<table border=\"1\" class=\"dataframe\">\n",
       "  <thead>\n",
       "    <tr style=\"text-align: right;\">\n",
       "      <th></th>\n",
       "      <th>F1</th>\n",
       "      <th>F2</th>\n",
       "      <th>F3</th>\n",
       "      <th>F4</th>\n",
       "      <th>F5</th>\n",
       "      <th>F6</th>\n",
       "      <th>F7</th>\n",
       "      <th>F8</th>\n",
       "      <th>F9</th>\n",
       "      <th>F10</th>\n",
       "      <th>...</th>\n",
       "      <th>F13</th>\n",
       "      <th>F14</th>\n",
       "      <th>F15</th>\n",
       "      <th>F16</th>\n",
       "      <th>F17</th>\n",
       "      <th>F18</th>\n",
       "      <th>F19</th>\n",
       "      <th>F20</th>\n",
       "      <th>F21</th>\n",
       "      <th>Class</th>\n",
       "    </tr>\n",
       "  </thead>\n",
       "  <tbody>\n",
       "    <tr>\n",
       "      <th>0</th>\n",
       "      <td>-2.30325</td>\n",
       "      <td>15.4530</td>\n",
       "      <td>853.76</td>\n",
       "      <td>-490.50</td>\n",
       "      <td>0.06</td>\n",
       "      <td>-11.2440</td>\n",
       "      <td>-1400.762</td>\n",
       "      <td>-22435.144</td>\n",
       "      <td>1535.900</td>\n",
       "      <td>-3.41000</td>\n",
       "      <td>...</td>\n",
       "      <td>9.8594</td>\n",
       "      <td>1</td>\n",
       "      <td>-5956.56</td>\n",
       "      <td>1.4626</td>\n",
       "      <td>-22.547</td>\n",
       "      <td>-9.2880</td>\n",
       "      <td>1.50200</td>\n",
       "      <td>-7870.52</td>\n",
       "      <td>16.02</td>\n",
       "      <td>True</td>\n",
       "    </tr>\n",
       "    <tr>\n",
       "      <th>1</th>\n",
       "      <td>-3.79380</td>\n",
       "      <td>8.2308</td>\n",
       "      <td>1077.72</td>\n",
       "      <td>-2340.20</td>\n",
       "      <td>2.06</td>\n",
       "      <td>-6.6428</td>\n",
       "      <td>-949.740</td>\n",
       "      <td>-22459.770</td>\n",
       "      <td>-562.100</td>\n",
       "      <td>-0.52780</td>\n",
       "      <td>...</td>\n",
       "      <td>15.5520</td>\n",
       "      <td>1</td>\n",
       "      <td>-5927.34</td>\n",
       "      <td>1.0864</td>\n",
       "      <td>-20.974</td>\n",
       "      <td>-13.7370</td>\n",
       "      <td>0.47138</td>\n",
       "      <td>-15984.08</td>\n",
       "      <td>NaN</td>\n",
       "      <td>False</td>\n",
       "    </tr>\n",
       "    <tr>\n",
       "      <th>2</th>\n",
       "      <td>-4.21470</td>\n",
       "      <td>7.7925</td>\n",
       "      <td>-4559.32</td>\n",
       "      <td>90.20</td>\n",
       "      <td>2.06</td>\n",
       "      <td>-6.9420</td>\n",
       "      <td>-1814.340</td>\n",
       "      <td>-22446.333</td>\n",
       "      <td>1238.500</td>\n",
       "      <td>-0.19285</td>\n",
       "      <td>...</td>\n",
       "      <td>12.4780</td>\n",
       "      <td>1</td>\n",
       "      <td>-5000.22</td>\n",
       "      <td>3.8200</td>\n",
       "      <td>-11.028</td>\n",
       "      <td>-7.3965</td>\n",
       "      <td>0.96080</td>\n",
       "      <td>-8012.68</td>\n",
       "      <td>NaN</td>\n",
       "      <td>True</td>\n",
       "    </tr>\n",
       "    <tr>\n",
       "      <th>3</th>\n",
       "      <td>-2.95410</td>\n",
       "      <td>7.5495</td>\n",
       "      <td>518.68</td>\n",
       "      <td>-565.70</td>\n",
       "      <td>0.06</td>\n",
       "      <td>-6.7114</td>\n",
       "      <td>-1346.520</td>\n",
       "      <td>-22414.960</td>\n",
       "      <td>1084.376</td>\n",
       "      <td>-0.53640</td>\n",
       "      <td>...</td>\n",
       "      <td>9.0148</td>\n",
       "      <td>1</td>\n",
       "      <td>-3457.32</td>\n",
       "      <td>5.0020</td>\n",
       "      <td>-25.280</td>\n",
       "      <td>-6.6633</td>\n",
       "      <td>1.04010</td>\n",
       "      <td>-8243.48</td>\n",
       "      <td>13.92</td>\n",
       "      <td>False</td>\n",
       "    </tr>\n",
       "    <tr>\n",
       "      <th>4</th>\n",
       "      <td>-2.67390</td>\n",
       "      <td>7.1814</td>\n",
       "      <td>891.36</td>\n",
       "      <td>-379.55</td>\n",
       "      <td>0.06</td>\n",
       "      <td>-10.6000</td>\n",
       "      <td>-1062.340</td>\n",
       "      <td>-22417.580</td>\n",
       "      <td>1016.740</td>\n",
       "      <td>-2.61700</td>\n",
       "      <td>...</td>\n",
       "      <td>10.1046</td>\n",
       "      <td>1</td>\n",
       "      <td>-5110.32</td>\n",
       "      <td>7.9840</td>\n",
       "      <td>-13.402</td>\n",
       "      <td>-8.6394</td>\n",
       "      <td>0.66500</td>\n",
       "      <td>-9224.08</td>\n",
       "      <td>16.16</td>\n",
       "      <td>True</td>\n",
       "    </tr>\n",
       "  </tbody>\n",
       "</table>\n",
       "<p>5 rows × 22 columns</p>\n",
       "</div>"
      ],
      "text/plain": [
       "        F1       F2       F3       F4    F5       F6        F7         F8  \\\n",
       "0 -2.30325  15.4530   853.76  -490.50  0.06 -11.2440 -1400.762 -22435.144   \n",
       "1 -3.79380   8.2308  1077.72 -2340.20  2.06  -6.6428  -949.740 -22459.770   \n",
       "2 -4.21470   7.7925 -4559.32    90.20  2.06  -6.9420 -1814.340 -22446.333   \n",
       "3 -2.95410   7.5495   518.68  -565.70  0.06  -6.7114 -1346.520 -22414.960   \n",
       "4 -2.67390   7.1814   891.36  -379.55  0.06 -10.6000 -1062.340 -22417.580   \n",
       "\n",
       "         F9      F10  ...      F13  F14      F15     F16     F17      F18  \\\n",
       "0  1535.900 -3.41000  ...   9.8594    1 -5956.56  1.4626 -22.547  -9.2880   \n",
       "1  -562.100 -0.52780  ...  15.5520    1 -5927.34  1.0864 -20.974 -13.7370   \n",
       "2  1238.500 -0.19285  ...  12.4780    1 -5000.22  3.8200 -11.028  -7.3965   \n",
       "3  1084.376 -0.53640  ...   9.0148    1 -3457.32  5.0020 -25.280  -6.6633   \n",
       "4  1016.740 -2.61700  ...  10.1046    1 -5110.32  7.9840 -13.402  -8.6394   \n",
       "\n",
       "       F19       F20    F21  Class  \n",
       "0  1.50200  -7870.52  16.02   True  \n",
       "1  0.47138 -15984.08    NaN  False  \n",
       "2  0.96080  -8012.68    NaN   True  \n",
       "3  1.04010  -8243.48  13.92  False  \n",
       "4  0.66500  -9224.08  16.16   True  \n",
       "\n",
       "[5 rows x 22 columns]"
      ]
     },
     "execution_count": 5,
     "metadata": {},
     "output_type": "execute_result"
    }
   ],
   "source": [
    "train.head()"
   ]
  },
  {
   "cell_type": "code",
   "execution_count": 6,
   "metadata": {},
   "outputs": [
    {
     "name": "stdout",
     "output_type": "stream",
     "text": [
      "<class 'pandas.core.frame.DataFrame'>\n",
      "RangeIndex: 1000 entries, 0 to 999\n",
      "Data columns (total 21 columns):\n",
      " #   Column  Non-Null Count  Dtype  \n",
      "---  ------  --------------  -----  \n",
      " 0   F1      1000 non-null   float64\n",
      " 1   F2      1000 non-null   float64\n",
      " 2   F3      1000 non-null   float64\n",
      " 3   F4      1000 non-null   float64\n",
      " 4   F5      1000 non-null   float64\n",
      " 5   F6      1000 non-null   float64\n",
      " 6   F7      1000 non-null   float64\n",
      " 7   F8      1000 non-null   float64\n",
      " 8   F9      1000 non-null   float64\n",
      " 9   F10     1000 non-null   float64\n",
      " 10  F11     1000 non-null   int64  \n",
      " 11  F12     1000 non-null   float64\n",
      " 12  F13     1000 non-null   float64\n",
      " 13  F14     1000 non-null   int64  \n",
      " 14  F15     1000 non-null   float64\n",
      " 15  F16     1000 non-null   float64\n",
      " 16  F17     1000 non-null   float64\n",
      " 17  F18     1000 non-null   float64\n",
      " 18  F19     1000 non-null   float64\n",
      " 19  F20     1000 non-null   float64\n",
      " 20  Class   1000 non-null   bool   \n",
      "dtypes: bool(1), float64(18), int64(2)\n",
      "memory usage: 157.4 KB\n"
     ]
    }
   ],
   "source": [
    "# to discard variable with missing values\n",
    "train.drop('F21', axis = 1, inplace = True)\n",
    "train.info()"
   ]
  },
  {
   "cell_type": "code",
   "execution_count": 7,
   "metadata": {},
   "outputs": [
    {
     "data": {
      "text/plain": [
       "<AxesSubplot:>"
      ]
     },
     "execution_count": 7,
     "metadata": {},
     "output_type": "execute_result"
    },
    {
     "data": {
      "image/png": "[encoded data removed]",
      "text/plain": [
       "<Figure size 432x288 with 1 Axes>"
      ]
     },
     "metadata": {
      "needs_background": "light"
     },
     "output_type": "display_data"
    }
   ],
   "source": [
    "# to check for outliers in the dataset using box-plot\n",
    "train.plot.box(grid='True')"
   ]
  },
  {
   "cell_type": "code",
   "execution_count": 8,
   "metadata": {},
   "outputs": [
    {
     "data": {
      "text/plain": [
       "<AxesSubplot:>"
      ]
     },
     "execution_count": 8,
     "metadata": {},
     "output_type": "execute_result"
    },
    {
     "data": {
      "image/png": "[encoded data removed]",
      "text/plain": [
       "<Figure size 432x288 with 1 Axes>"
      ]
     },
     "metadata": {
      "needs_background": "light"
     },
     "output_type": "display_data"
    }
   ],
   "source": [
    "# to check for the extreme value in a particular variable\n",
    "train['F8'].plot.box(grid='True')"
   ]
  },
  {
   "cell_type": "code",
   "execution_count": 9,
   "metadata": {},
   "outputs": [],
   "source": [
    "# Position of the Outlier \n",
    "x = np.where(train['F8']<-60000)\n",
    "train.drop(x[0], axis = 0, inplace = True) #drop the extreme value"
   ]
  },
  {
   "cell_type": "code",
   "execution_count": 10,
   "metadata": {},
   "outputs": [
    {
     "data": {
      "text/plain": [
       "(999, 21)"
      ]
     },
     "execution_count": 10,
     "metadata": {},
     "output_type": "execute_result"
    }
   ],
   "source": [
    "# to find the number of rows are left in the dataset\n",
    "train.shape"
   ]
  },
  {
   "cell_type": "code",
   "execution_count": 11,
   "metadata": {},
   "outputs": [
    {
     "data": {
      "text/plain": [
       "<AxesSubplot:xlabel='Class', ylabel='count'>"
      ]
     },
     "execution_count": 11,
     "metadata": {},
     "output_type": "execute_result"
    },
    {
     "data": {
      "image/png": "[encoded data removed]",
      "text/plain": [
       "<Figure size 432x288 with 1 Axes>"
      ]
     },
     "metadata": {
      "needs_background": "light"
     },
     "output_type": "display_data"
    }
   ],
   "source": [
    "# to check if the dataset is well-balanced\n",
    "sns.countplot(x = \"Class\", data = train)"
   ]
  },
  {
   "cell_type": "code",
   "execution_count": 12,
   "metadata": {},
   "outputs": [],
   "source": [
    "# to split the data into train and test datasets \n",
    "from sklearn.model_selection import train_test_split \n",
    "\n",
    "X = train.drop('Class',axis=1)\n",
    "y = train[['Class']]\n",
    "X_train, X_test, y_train, y_test = train_test_split(X, y, test_size = 0.25,random_state=47)"
   ]
  },
  {
   "cell_type": "markdown",
   "metadata": {},
   "source": [
    "# Decision Tree"
   ]
  },
  {
   "cell_type": "code",
   "execution_count": 13,
   "metadata": {},
   "outputs": [
    {
     "data": {
      "text/plain": [
       "DecisionTreeClassifier(max_depth=5)"
      ]
     },
     "execution_count": 13,
     "metadata": {},
     "output_type": "execute_result"
    }
   ],
   "source": [
    "# to fit a Decision Tree classifier on the training data\n",
    "from sklearn.tree import DecisionTreeClassifier\n",
    "\n",
    "dtc = DecisionTreeClassifier(criterion=\"gini\",max_depth=5)   \n",
    "dtc.fit(X_train,y_train)"
   ]
  },
  {
   "cell_type": "code",
   "execution_count": 14,
   "metadata": {},
   "outputs": [
    {
     "data": {
      "image/png": "[encoded data removed]",
      "text/plain": [
       "<Figure size 1800x1440 with 1 Axes>"
      ]
     },
     "metadata": {
      "needs_background": "light"
     },
     "output_type": "display_data"
    }
   ],
   "source": [
    "# to plot the Decision Tree classifier\n",
    "from sklearn import tree\n",
    "\n",
    "fig = plt.figure(figsize=(25,20))\n",
    "_ = tree.plot_tree(dtc,filled=True)"
   ]
  },
  {
   "cell_type": "code",
   "execution_count": 15,
   "metadata": {},
   "outputs": [],
   "source": [
    "# to save the classifier as an image\n",
    "fig.savefig(\"decision_tree.png\")"
   ]
  },
  {
   "cell_type": "code",
   "execution_count": 16,
   "metadata": {},
   "outputs": [
    {
     "name": "stdout",
     "output_type": "stream",
     "text": [
      "Confusion matrix:\n",
      " [[339  33]\n",
      " [ 16 361]]\n",
      "AUC for the training dataset: 97.1771%\n",
      "Accuracy of the training dataset: 93.4579%\n"
     ]
    }
   ],
   "source": [
    "from sklearn.metrics import roc_curve, roc_auc_score, classification_report, accuracy_score, confusion_matrix \n",
    "\n",
    "y_train_pred = dtc.predict(X_train) # to predict target values for the training data\n",
    "y_train_pred_prob = dtc.predict_proba(X_train)[:,1]\n",
    "\n",
    "train_accuracy = accuracy_score(y_train, y_train_pred)*100 # the accuarcy of the Decision Tree classifier for the training data\n",
    "train_auc_roc = roc_auc_score(y_train, y_train_pred_prob)*100 # to find the area under the curve \n",
    "\n",
    "print('Confusion matrix:\\n', confusion_matrix(y_train, y_train_pred))\n",
    "\n",
    "print('AUC for the training dataset: %.4f%%' % train_auc_roc)\n",
    "\n",
    "print('Accuracy of the training dataset: %.4f%%' % train_accuracy)"
   ]
  },
  {
   "cell_type": "code",
   "execution_count": 17,
   "metadata": {},
   "outputs": [
    {
     "name": "stdout",
     "output_type": "stream",
     "text": [
      "Confusion matrix:\n",
      " [[ 98  23]\n",
      " [ 10 119]]\n",
      "AUC for the testing dataset: 85.9760%\n",
      "Accuracy of the testing dataset: 86.8000%\n"
     ]
    }
   ],
   "source": [
    "y_test_pred = dtc.predict(X_test) # to predict target values for the testing data\n",
    "y_test_pred_prob = dtc.predict_proba(X_test)[:,1]\n",
    "\n",
    "test_accuracy = accuracy_score(y_test, y_test_pred)*100 # the accuarcy of the Decision Tree classifier for the testing data\n",
    "test_auc_roc = roc_auc_score(y_test, y_test_pred_prob)*100 # to find the area under the curve \n",
    "\n",
    "print('Confusion matrix:\\n', confusion_matrix(y_test, y_test_pred))\n",
    "\n",
    "print('AUC for the testing dataset: %.4f%%' % test_auc_roc)\n",
    "\n",
    "print('Accuracy of the testing dataset: %.4f%%' % test_accuracy)"
   ]
  },
  {
   "cell_type": "markdown",
   "metadata": {},
   "source": [
    "# Logistic Regression"
   ]
  },
  {
   "cell_type": "code",
   "execution_count": 18,
   "metadata": {},
   "outputs": [],
   "source": [
    "from sklearn.preprocessing import StandardScaler # use of StandardScaler to standarise the dataset i.e. mean = 0 and s.d. = 1\n",
    "from sklearn.linear_model import LogisticRegression # to import a Logistic Regression model\n",
    "from sklearn.pipeline import Pipeline\n",
    "\n",
    "scaler = StandardScaler()\n",
    "lr = LogisticRegression()\n",
    "lr_model = Pipeline([('standardize', scaler),\n",
    "                    ('log_reg', lr)])"
   ]
  },
  {
   "cell_type": "code",
   "execution_count": 19,
   "metadata": {},
   "outputs": [
    {
     "data": {
      "text/plain": [
       "Pipeline(steps=[('standardize', StandardScaler()),\n",
       "                ('log_reg', LogisticRegression())])"
      ]
     },
     "execution_count": 19,
     "metadata": {},
     "output_type": "execute_result"
    }
   ],
   "source": [
    "# to fit a Logistic Regression model on traing data\n",
    "lr_model.fit(X_train, y_train['Class'])"
   ]
  },
  {
   "cell_type": "code",
   "execution_count": 20,
   "metadata": {},
   "outputs": [
    {
     "name": "stdout",
     "output_type": "stream",
     "text": [
      "Confusion matrix:\n",
      " [[275  97]\n",
      " [127 250]]\n",
      "AUC for the training dataset: 75.1119%\n",
      "Accuracy of the training dataset: 70.0935%\n"
     ]
    }
   ],
   "source": [
    "y_train_pred = lr_model.predict(X_train) # to predict target values for the training data\n",
    "y_train_pred_prob = lr_model.predict_proba(X_train)[:,1]\n",
    "\n",
    "train_accuracy = accuracy_score(y_train, y_train_pred)*100 # the accuarcy of the Logistic Regression model for the training data\n",
    "train_auc_roc = roc_auc_score(y_train, y_train_pred_prob)*100 # to find the area under the curve \n",
    "\n",
    "print('Confusion matrix:\\n', confusion_matrix(y_train, y_train_pred))\n",
    "\n",
    "print('AUC for the training dataset: %.4f%%' % train_auc_roc)\n",
    "\n",
    "print('Accuracy of the training dataset: %.4f%%' % train_accuracy)"
   ]
  },
  {
   "cell_type": "code",
   "execution_count": 21,
   "metadata": {},
   "outputs": [
    {
     "name": "stdout",
     "output_type": "stream",
     "text": [
      "Confusion matrix:\n",
      " [[79 42]\n",
      " [40 89]]\n",
      "AUC for the testing dataset: 74.9760%\n",
      "Accuracy of the testing dataset: 67.2000%\n"
     ]
    }
   ],
   "source": [
    "y_test_pred = lr_model.predict(X_test) # to predict target values for the testing data\n",
    "y_test_pred_prob = lr_model.predict_proba(X_test)[:,1]\n",
    "\n",
    "test_accuracy = accuracy_score(y_test, y_test_pred)*100 # the accuarcy of the Logistic Regression model for the testing data\n",
    "test_auc_roc = roc_auc_score(y_test, y_test_pred_prob)*100 # to find the area under the curve \n",
    "\n",
    "print('Confusion matrix:\\n', confusion_matrix(y_test, y_test_pred))\n",
    "\n",
    "print('AUC for the testing dataset: %.4f%%' % test_auc_roc)\n",
    "\n",
    "print('Accuracy of the testing dataset: %.4f%%' % test_accuracy)"
   ]
  },
  {
   "cell_type": "markdown",
   "metadata": {},
   "source": [
    "# SVM"
   ]
  },
  {
   "cell_type": "code",
   "execution_count": 22,
   "metadata": {},
   "outputs": [],
   "source": [
    "from sklearn import svm # to import svm model\n",
    "from sklearn.model_selection import GridSearchCV # to create a SVM Classifier and hyper parameter tunin\n",
    "\n",
    "ml = svm.SVC()"
   ]
  },
  {
   "cell_type": "code",
   "execution_count": 23,
   "metadata": {},
   "outputs": [],
   "source": [
    "# defining parameter range\n",
    "param_grid = {'C': [ 1, 10, 100, 1000,10000], \n",
    "              'gamma': [1,0.1,0.01,0.001,0.0001],\n",
    "              'kernel': ['rbf']} \n",
    "\n",
    "grid = GridSearchCV(ml, param_grid, refit = True, verbose = 1,cv=15)"
   ]
  },
  {
   "cell_type": "code",
   "execution_count": 24,
   "metadata": {},
   "outputs": [
    {
     "name": "stdout",
     "output_type": "stream",
     "text": [
      "Fitting 15 folds for each of 25 candidates, totalling 375 fits\n"
     ]
    }
   ],
   "source": [
    "# to fit the model for grid search\n",
    "grid_search=grid.fit(X_train, y_train['Class'])"
   ]
  },
  {
   "cell_type": "code",
   "execution_count": 25,
   "metadata": {},
   "outputs": [
    {
     "name": "stdout",
     "output_type": "stream",
     "text": [
      "{'C': 1, 'gamma': 0.0001, 'kernel': 'rbf'}\n"
     ]
    }
   ],
   "source": [
    "# to find the best hyperparameters\n",
    "print(grid_search.best_params_)"
   ]
  },
  {
   "cell_type": "code",
   "execution_count": 26,
   "metadata": {},
   "outputs": [
    {
     "name": "stdout",
     "output_type": "stream",
     "text": [
      "Confusion matrix:\n",
      " [[79 42]\n",
      " [40 89]]\n"
     ]
    }
   ],
   "source": [
    "y_train_pred=grid.predict(X_train) # to predict target values for the training data\n",
    "print('Confusion matrix:\\n', confusion_matrix(y_test, y_test_pred))"
   ]
  },
  {
   "cell_type": "code",
   "execution_count": 27,
   "metadata": {},
   "outputs": [
    {
     "name": "stdout",
     "output_type": "stream",
     "text": [
      "Accuracy for the training dataset with tuning is : 51.53%\n"
     ]
    }
   ],
   "source": [
    "train_accuracy = grid_search.best_score_ *100 # the accuarcy of the SVM model for the training data\n",
    "print(\"Accuracy for the training dataset with tuning is : {:.2f}%\".format(train_accuracy) )"
   ]
  },
  {
   "cell_type": "code",
   "execution_count": 28,
   "metadata": {},
   "outputs": [
    {
     "name": "stdout",
     "output_type": "stream",
     "text": [
      "Confusion matrix:\n",
      " [[  7 114]\n",
      " [  2 127]]\n"
     ]
    }
   ],
   "source": [
    "y_test_pred=grid.predict(X_test) # to predict target values for the testing data\n",
    "print('Confusion matrix:\\n', confusion_matrix(y_test, y_test_pred))"
   ]
  },
  {
   "cell_type": "code",
   "execution_count": 29,
   "metadata": {},
   "outputs": [
    {
     "name": "stdout",
     "output_type": "stream",
     "text": [
      "Accuracy for the testing dataset with tuning is : 53.60%\n"
     ]
    }
   ],
   "source": [
    "test_accuracy=accuracy_score(y_test,y_test_pred)*100 # the accuarcy of the SVM model for the testing data\n",
    "print(\"Accuracy for the testing dataset with tuning is : {:.2f}%\".format(test_accuracy) )"
   ]
  },
  {
   "cell_type": "markdown",
   "metadata": {},
   "source": [
    "### Part B"
   ]
  },
  {
   "cell_type": "code",
   "execution_count": 30,
   "metadata": {},
   "outputs": [],
   "source": [
    "# HERE YOU WILL USE THIS TEMPLATE TO SAVE THE PREDICTIONS ON THE TEST SET\n",
    "\n",
    "# Load the test data\n",
    "test_df = pd.read_csv('CE802_P2_Test.csv')\n",
    "\n",
    "# Make sure you work on a copy\n",
    "test_data = test_df.iloc[:,:-1].copy()\n",
    "\n",
    "predicted = dtc.predict(test_data.drop('F21', axis=1)) # CHANGE HERE -- use your previously trained predictor and apply it to test_data\n",
    "                # (test_data can be modified if needed but make sure you don't change the order of the rows)...\n",
    "\n",
    "# Replace the last (empty) column with your prediction\n",
    "test_df.iloc[:,-1] = predicted\n",
    "\n",
    "# Save to the destination file\n",
    "test_df.to_csv('CE802_P2_Test_Predictions.csv', index=False, float_format='%.8g')\n",
    "\n",
    "# IMPORTANT!! Make sure only the last column has changed\n",
    "assert pd.read_csv('CE802_P2_Test.csv').iloc[:,:-1].equals(pd.read_csv('CE802_P2_Test_Predictions.csv').iloc[:,:-1])"
   ]
  }
 ],
 "metadata": {
  "kernelspec": {
   "display_name": "Python 3 (ipykernel)",
   "language": "python",
   "name": "python3"
  },
  "language_info": {
   "codemirror_mode": {
    "name": "ipython",
    "version": 3
   },
   "file_extension": ".py",
   "mimetype": "text/x-python",
   "name": "python",
   "nbconvert_exporter": "python",
   "pygments_lexer": "ipython3",
   "version": "3.9.7"
  }
 },
 "nbformat": 4,
 "nbformat_minor": 4
}
